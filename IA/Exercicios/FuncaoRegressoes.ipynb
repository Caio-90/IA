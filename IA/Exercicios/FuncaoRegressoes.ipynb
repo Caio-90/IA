{
 "cells": [
  {
   "cell_type": "code",
   "execution_count": 1,
   "metadata": {},
   "outputs": [],
   "source": [
    "import pandas as pd\n",
    "pd.set_option('display.max_columns',21)\n",
    "dados = pd.read_csv('C:/Users/Cliente/IA/basesDeDados/kc_house_data.csv')"
   ]
  },
  {
   "cell_type": "code",
   "execution_count": 2,
   "metadata": {},
   "outputs": [],
   "source": [
    "dados.drop('id',axis=1,inplace=True)\n",
    "dados.drop('date',axis=1,inplace=True)\n",
    "dados.drop('zipcode',axis=1,inplace=True)\n",
    "dados.drop('lat',axis=1,inplace=True)\n",
    "dados.drop('long',axis=1,inplace=True)\n"
   ]
  },
  {
   "cell_type": "code",
   "execution_count": 6,
   "metadata": {},
   "outputs": [],
   "source": [
    "y = dados['price'] \n",
    "x = dados.drop('price',axis=1) \n",
    "from sklearn.model_selection import train_test_split\n",
    "x_treino,x_teste,y_treino,y_teste = train_test_split(x,y,test_size=0.30,random_state = 14)"
   ]
  },
  {
   "cell_type": "code",
   "execution_count": 4,
   "metadata": {},
   "outputs": [],
   "source": [
    "def modelos(a,b,c,d):\n",
    "    from sklearn.linear_model import Lasso\n",
    "    from sklearn.linear_model import Ridge\n",
    "    from sklearn.linear_model import LinearRegression\n",
    "    from sklearn.linear_model import ElasticNet\n",
    "    x_treino = a\n",
    "    y_treino = b\n",
    "    x_teste = c\n",
    "    y_teste = d\n",
    "    reg = LinearRegression()\n",
    "    ridge = Ridge()\n",
    "    lasso = Lasso()\n",
    "    elastic = ElasticNet()\n",
    "    reg.fit(x_treino,y_treino)\n",
    "    ridge.fit(x_treino,y_treino)\n",
    "    lasso.fit(x_treino,y_treino)\n",
    "    elastic.fit(x_treino,y_treino)\n",
    "    resultReg = reg.score(x_teste,y_teste)\n",
    "    resultRidge = ridge.score(x_teste,y_teste)\n",
    "    resultLasso = lasso.score(x_teste,y_teste)\n",
    "    resultElastic = elastic.score(x_teste,y_teste)\n",
    "    print('Regressão linear:',resultReg,'Ridge:',resultRidge,'Lasso:',resultLasso,'Elastic:',resultElastic)"
   ]
  },
  {
   "cell_type": "code",
   "execution_count": 7,
   "metadata": {},
   "outputs": [
    {
     "name": "stderr",
     "output_type": "stream",
     "text": [
      "C:\\ProgramData\\Anaconda3\\lib\\site-packages\\sklearn\\linear_model\\_coordinate_descent.py:529: ConvergenceWarning: Objective did not converge. You might want to increase the number of iterations. Duality gap: 332862131907532.4, tolerance: 209305962424.49075\n",
      "  model = cd_fast.enet_coordinate_descent(\n"
     ]
    },
    {
     "name": "stdout",
     "output_type": "stream",
     "text": [
      "Regressão linear: 0.6538094196280897 Ridge: 0.6539029726255619 Lasso: 0.6538117156908518 Elastic: 0.6241134858939881\n"
     ]
    },
    {
     "name": "stderr",
     "output_type": "stream",
     "text": [
      "C:\\ProgramData\\Anaconda3\\lib\\site-packages\\sklearn\\linear_model\\_coordinate_descent.py:529: ConvergenceWarning: Objective did not converge. You might want to increase the number of iterations. Duality gap: 427971483633562.56, tolerance: 209305962424.49075\n",
      "  model = cd_fast.enet_coordinate_descent(\n"
     ]
    }
   ],
   "source": [
    "modelos(x_treino,y_treino,x_teste,y_teste)"
   ]
  },
  {
   "cell_type": "code",
   "execution_count": null,
   "metadata": {},
   "outputs": [],
   "source": []
  }
 ],
 "metadata": {
  "kernelspec": {
   "display_name": "Python 3",
   "language": "python",
   "name": "python3"
  },
  "language_info": {
   "codemirror_mode": {
    "name": "ipython",
    "version": 3
   },
   "file_extension": ".py",
   "mimetype": "text/x-python",
   "name": "python",
   "nbconvert_exporter": "python",
   "pygments_lexer": "ipython3",
   "version": "3.8.5"
  }
 },
 "nbformat": 4,
 "nbformat_minor": 4
}
